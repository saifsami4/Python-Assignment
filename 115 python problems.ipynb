{
 "cells": [
  {
   "cell_type": "code",
   "execution_count": null,
   "id": "5c32d120-2d36-47d6-959f-ed3beb748eb0",
   "metadata": {},
   "outputs": [],
   "source": [
    "1.\n",
    "a = int(input(\"Enter first number (a): \"))\n",
    "b = int(input(\"Enter second number (b): \"))\n",
    "\n",
    "a, b = b, a  # Pythonic swap\n",
    "\n",
    "print(\"After swapping:\")\n",
    "print(\"a =\", a)\n",
    "print(\"b =\", b)\n"
   ]
  },
  {
   "cell_type": "code",
   "execution_count": null,
   "id": "7267de06-44a6-4819-84cd-82c79da13279",
   "metadata": {},
   "outputs": [],
   "source": [
    "2.\n",
    "num = int(input(\"Enter an integer: \"))\n",
    "\n",
    "if num % 2 == 0:\n",
    "    print(num, \"is Even\")\n",
    "else:\n",
    "    print(num, \"is Odd\")\n"
   ]
  },
  {
   "cell_type": "code",
   "execution_count": null,
   "id": "da0e1670-0813-40fb-9a86-440f2d9aa5af",
   "metadata": {},
   "outputs": [],
   "source": [
    "3.\n",
    "def reverse_string(s):\n",
    "    reversed_s = \"\"\n",
    "    for char in s:\n",
    "        reversed_s = char + reversed_s\n",
    "    return reversed_s\n",
    "\n",
    "text = input(\"Enter a string: \")\n",
    "print(\"Reversed string:\", reverse_string(text))\n"
   ]
  },
  {
   "cell_type": "code",
   "execution_count": null,
   "id": "d82c36de-276d-40bd-9998-f576b3e92b03",
   "metadata": {},
   "outputs": [],
   "source": [
    "4.\n",
    "numbers = [1, 2, 3, 4, 5]\n",
    "string_list = [str(num) for num in numbers]\n",
    "print(\"Converted list:\", string_list)\n"
   ]
  },
  {
   "cell_type": "code",
   "execution_count": null,
   "id": "ee1b30fb-8e1b-4a5d-a43f-92c3b0bb7e3c",
   "metadata": {},
   "outputs": [],
   "source": [
    "5.\n",
    "celsius = float(input(\"Enter temperature in Celsius: \"))\n",
    "fahrenheit = (celsius * 9/5) + 32\n",
    "print(f\"{celsius}°C = {fahrenheit}°F\")\n"
   ]
  },
  {
   "cell_type": "code",
   "execution_count": null,
   "id": "8d6edeba-a2c5-4c16-9616-31f9ae63d054",
   "metadata": {},
   "outputs": [],
   "source": [
    "6.\n",
    "def check_type(variable):\n",
    "    return type(variable).__name__\n",
    "\n",
    "value = [1, 2, 3]\n",
    "print(\"Data type:\", check_type(value))\n"
   ]
  },
  {
   "cell_type": "code",
   "execution_count": null,
   "id": "08998414-63ed-43d7-b5d9-05131c38317a",
   "metadata": {},
   "outputs": [],
   "source": [
    "7.\n",
    "def is_palindrome(s):\n",
    "    s = s.lower().replace(\" \", \"\")\n",
    "    return s == s[::-1]\n",
    "\n",
    "word = input(\"Enter a string: \")\n",
    "if is_palindrome(word):\n",
    "    print(\"It's a palindrome!\")\n",
    "else:\n",
    "    print(\"Not a palindrome.\")\n"
   ]
  },
  {
   "cell_type": "code",
   "execution_count": null,
   "id": "d8e846bd-315e-4f50-a2c9-09e443b54cc7",
   "metadata": {},
   "outputs": [],
   "source": [
    "8.\n",
    "def reverse_with_slice(s):\n",
    "    return s[::-1]\n",
    "\n",
    "# Example usage\n",
    "text = input(\"Enter a string: \")\n",
    "print(\"Reversed string:\", reverse_with_slice(text))\n"
   ]
  },
  {
   "cell_type": "code",
   "execution_count": null,
   "id": "729c282f-aa00-4ea9-9aed-dc9152041f79",
   "metadata": {},
   "outputs": [],
   "source": [
    "\n",
    "a = '100'\n",
    "b = 25\n",
    "c = '10.5'\n",
    "\n",
    "result1 = int(a) + b\n",
    "result2 = result1 - float(c)\n",
    "final_result = str(result2) + \" is the answer.\"\n",
    "\n",
    "print(final_result)\n"
   ]
  },
  {
   "cell_type": "code",
   "execution_count": null,
   "id": "3c5d7483-b3d6-462d-8441-b7c0f1533511",
   "metadata": {},
   "outputs": [],
   "source": [
    "num = float(input(\"Enter a number: \"))\n",
    "\n",
    "if num > 0:\n",
    "    print(\"The number is positive.\")\n",
    "elif num < 0:\n",
    "    print(\"The number is negative.\")\n",
    "else:\n",
    "    print(\"The number is zero.\")\n"
   ]
  },
  {
   "cell_type": "code",
   "execution_count": null,
   "id": "fac087e5-5883-43bf-a5fe-257b5fc73261",
   "metadata": {},
   "outputs": [],
   "source": [
    "a = float(input(\"Enter first number: \"))\n",
    "b = float(input(\"Enter second number: \"))\n",
    "c = float(input(\"Enter third number: \"))\n",
    "\n",
    "if a >= b and a >= c:\n",
    "    print(\"The largest number is:\", a)\n",
    "elif b >= a and b >= c:\n",
    "    print(\"The largest number is:\", b)\n",
    "else:\n",
    "    print(\"The largest number is:\", c)\n"
   ]
  },
  {
   "cell_type": "code",
   "execution_count": null,
   "id": "e12be1ba-5d6f-4eb6-b914-2dc7375b7172",
   "metadata": {},
   "outputs": [],
   "source": [
    "year = int(input(\"Enter a year: \"))\n",
    "\n",
    "if (year % 4 == 0 and year % 100 != 0) or (year % 400 == 0):\n",
    "    print(year, \"is a leap year.\")\n",
    "else:\n",
    "    print(year, \"is not a leap year.\")\n"
   ]
  },
  {
   "cell_type": "code",
   "execution_count": null,
   "id": "071ea578-91f5-4cb7-a915-a70a95193ec7",
   "metadata": {},
   "outputs": [],
   "source": [
    "percentage = float(input(\"Enter your percentage: \"))\n",
    "\n",
    "if percentage >= 90:\n",
    "    print(\"Grade: A+\")\n",
    "elif percentage >= 80:\n",
    "    print(\"Grade: A\")\n",
    "elif percentage >= 70:\n",
    "    print(\"Grade: B\")\n",
    "elif percentage >= 60:\n",
    "    print(\"Grade: C\")\n",
    "else:\n",
    "    print(\"Grade: Fail\")\n"
   ]
  },
  {
   "cell_type": "code",
   "execution_count": null,
   "id": "ec0ca68a-f16c-431c-8e31-5414225e7cdf",
   "metadata": {},
   "outputs": [],
   "source": [
    "ch = input(\"Enter a single character: \").lower()\n",
    "\n",
    "if ch in ('a', 'e', 'i', 'o', 'u'):\n",
    "    print(ch, \"is a vowel.\")\n",
    "elif ch.isalpha():\n",
    "    print(ch, \"is a consonant.\")\n",
    "else:\n",
    "    print(\"Invalid input. Please enter an alphabet letter.\")\n"
   ]
  },
  {
   "cell_type": "code",
   "execution_count": null,
   "id": "9ecd027e-647f-42ab-9880-79681c1ea0d3",
   "metadata": {},
   "outputs": [],
   "source": [
    "hour = int(input(\"Enter the time in hours (0-23): \"))\n",
    "\n",
    "if 5 <= hour < 12:\n",
    "    print(\"Good Morning\")\n",
    "elif 12 <= hour < 17:\n",
    "    print(\"Good Afternoon\")\n",
    "elif 17 <= hour < 21:\n",
    "    print(\"Good Evening\")\n",
    "else:\n",
    "    print(\"Good Night\")\n"
   ]
  },
  {
   "cell_type": "code",
   "execution_count": null,
   "id": "e3143a71-0a29-4579-afff-748064378f08",
   "metadata": {},
   "outputs": [],
   "source": [
    "a = float(input(\"Enter first side: \"))\n",
    "b = float(input(\"Enter second side: \"))\n",
    "c = float(input(\"Enter third side: \"))\n",
    "\n",
    "if a == b == c:\n",
    "    print(\"The triangle is Equilateral.\")\n",
    "elif a == b or b == c or a == c:\n",
    "    print(\"The triangle is Isosceles.\")\n",
    "else:\n",
    "    print(\"The triangle is Scalene.\")\n"
   ]
  },
  {
   "cell_type": "code",
   "execution_count": null,
   "id": "b2362620-f970-4740-a7bd-0e1b28651c3a",
   "metadata": {},
   "outputs": [],
   "source": [
    "import math\n",
    "\n",
    "a = float(input(\"Enter coefficient a: \"))\n",
    "b = float(input(\"Enter coefficient b: \"))\n",
    "c = float(input(\"Enter coefficient c: \"))\n",
    "\n",
    "discriminant = b**2 - 4*a*c\n",
    "\n",
    "if discriminant > 0:\n",
    "    root1 = (-b + math.sqrt(discriminant)) / (2*a)\n",
    "    root2 = (-b - math.sqrt(discriminant)) / (2*a)\n",
    "    print(\"Two real roots:\", root1, \"and\", root2)\n",
    "elif discriminant == 0:\n",
    "    root = -b / (2*a)\n",
    "    print(\"One real root:\", root)\n",
    "else:\n",
    "    print(\"No real roots. The roots are complex.\")\n"
   ]
  },
  {
   "cell_type": "code",
   "execution_count": null,
   "id": "2431acda-212e-49d2-98ef-66cd0c54428f",
   "metadata": {},
   "outputs": [],
   "source": [
    "num = int(input(\"Enter an integer: \"))\n",
    "\n",
    "if 0 <= num <= 50:\n",
    "    print(\"The number is in the range 0-50.\")\n",
    "elif 51 <= num <= 100:\n",
    "    print(\"The number is in the range 51-100.\")\n",
    "elif 101 <= num <= 150:\n",
    "    print(\"The number is in the range 101-150.\")\n",
    "else:\n",
    "    print(\"The number is above 150.\")\n"
   ]
  },
  {
   "cell_type": "code",
   "execution_count": null,
   "id": "5700d854-b1cb-42e4-9454-8cdc631d678a",
   "metadata": {},
   "outputs": [],
   "source": [
    "\n",
    "N = int(input(\"Enter a number: \"))\n",
    "total = 0\n",
    "\n",
    "for i in range(1, N + 1):\n",
    "    total += i\n",
    "\n",
    "print(\"Sum of first\", N, \"natural numbers is:\", total)\n"
   ]
  },
  {
   "cell_type": "code",
   "execution_count": null,
   "id": "ebc40506-d971-448c-8719-5f84e890be26",
   "metadata": {},
   "outputs": [],
   "source": [
    "\n",
    "N = int(input(\"Enter a number: \"))\n",
    "fact = 1\n",
    "i = 1\n",
    "\n",
    "while i <= N:\n",
    "    fact *= i\n",
    "    i += 1\n",
    "\n",
    "print(\"Factorial of\", N, \"is:\", fact)\n"
   ]
  },
  {
   "cell_type": "code",
   "execution_count": null,
   "id": "f57a736b-38e8-4dac-b7c8-38f1cccf34b6",
   "metadata": {},
   "outputs": [],
   "source": [
    "\n",
    "N = int(input(\"Enter a number: \"))\n",
    "\n",
    "for i in range(1, 11):\n",
    "    print(f\"{N} x {i} = {N * i}\")\n"
   ]
  },
  {
   "cell_type": "code",
   "execution_count": null,
   "id": "f7bd03f0-d4f1-4086-bc9b-baf067a431fa",
   "metadata": {},
   "outputs": [],
   "source": [
    "\n",
    "N = int(input(\"Enter a number: \"))\n",
    "count = 0\n",
    "\n",
    "while N > 0:\n",
    "    N //= 10\n",
    "    count += 1\n",
    "\n",
    "print(\"Number of digits:\", count)\n"
   ]
  },
  {
   "cell_type": "code",
   "execution_count": null,
   "id": "00e46282-842f-4187-a80a-211805a5cddd",
   "metadata": {},
   "outputs": [],
   "source": [
    "# Program to generate Fibonacci sequence\n",
    "N = int(input(\"Enter the limit: \"))\n",
    "\n",
    "a, b = 0, 1\n",
    "print(\"Fibonacci Sequence:\")\n",
    "\n",
    "for i in range(N):\n",
    "    print(a, end=\" \")\n",
    "    a, b = b, a + b\n"
   ]
  },
  {
   "cell_type": "code",
   "execution_count": null,
   "id": "4992fbbb-13a1-4066-857f-72908c7a1e85",
   "metadata": {},
   "outputs": [],
   "source": [
    "# Program to calculate sum of even numbers up to N\n",
    "N = int(input(\"Enter a number: \"))\n",
    "sum_even = 0\n",
    "i = 2\n",
    "\n",
    "while i <= N:\n",
    "    sum_even += i\n",
    "    i += 2\n",
    "\n",
    "print(\"Sum of even numbers between 1 and\", N, \"is:\", sum_even)\n"
   ]
  },
  {
   "cell_type": "code",
   "execution_count": null,
   "id": "e983c20c-f400-4ed9-86f0-f9a0bf38875a",
   "metadata": {},
   "outputs": [],
   "source": [
    "# Right-angled triangle\n",
    "rows = int(input(\"Enter number of rows: \"))\n",
    "\n",
    "print(\"\\nRight-angled triangle:\")\n",
    "for i in range(1, rows + 1):\n",
    "    print(\"*\" * i)\n",
    "\n",
    "# Inverted right-angled triangle\n",
    "print(\"\\nInverted right-angled triangle:\")\n",
    "for i in range(rows, 0, -1):\n",
    "    print(\"*\" * i)\n"
   ]
  },
  {
   "cell_type": "code",
   "execution_count": null,
   "id": "89aa698f-399b-4a16-a2fa-4a7db8002809",
   "metadata": {},
   "outputs": [],
   "source": [
    "# Program to check if a number is prime\n",
    "N = int(input(\"Enter a number: \"))\n",
    "\n",
    "if N <= 1:\n",
    "    print(N, \"is not a prime number.\")\n",
    "else:\n",
    "    i = 2\n",
    "    is_prime = True\n",
    "    while i <= N // 2:\n",
    "        if N % i == 0:\n",
    "            is_prime = False\n",
    "            break\n",
    "        i += 1\n",
    "    if is_prime:\n",
    "        print(N, \"is a prime number.\")\n",
    "    else:\n",
    "        print(N, \"is not a prime number.\")\n"
   ]
  },
  {
   "cell_type": "code",
   "execution_count": null,
   "id": "dbbb7c5a-2d60-4cae-b0f0-02c7b70e13c7",
   "metadata": {},
   "outputs": [],
   "source": [
    "# Program to find sum, average, max, and min of list elements\n",
    "numbers = [10, 25, 3, 7, 40, 15]\n",
    "total = 0\n",
    "\n",
    "for num in numbers:\n",
    "    total += num\n",
    "\n",
    "average = total / len(numbers)\n",
    "\n",
    "print(\"Sum:\", total)\n",
    "print(\"Average:\", average)\n",
    "print(\"Maximum:\", max(numbers))\n",
    "print(\"Minimum:\", min(numbers))\n"
   ]
  },
  {
   "cell_type": "code",
   "execution_count": null,
   "id": "33b0a832-f3e6-436a-a5a4-e066ff2b781b",
   "metadata": {},
   "outputs": [],
   "source": [
    "# Program to reverse a string using while loop\n",
    "text = input(\"Enter a string: \")\n",
    "reversed_text = \"\"\n",
    "i = len(text) - 1\n",
    "\n",
    "while i >= 0:\n",
    "    reversed_text += text[i]\n",
    "    i -= 1\n",
    "\n",
    "print(\"Reversed string:\", reversed_text)\n"
   ]
  },
  {
   "cell_type": "code",
   "execution_count": null,
   "id": "893f13e2-8871-4f0e-bd42-3a8283b28f94",
   "metadata": {},
   "outputs": [],
   "source": [
    "# Program to print multiplication tables from 1 to 10 using nested loops\n",
    "\n",
    "for i in range(1, 11):\n",
    "    for j in range(1, 11):\n",
    "        print(f\"{i} x {j} = {i * j}\", end=\"\\t\")\n",
    "    print()  \n"
   ]
  },
  {
   "cell_type": "code",
   "execution_count": null,
   "id": "3c0a3e5a-1e41-4283-b7b0-8d47dfdddb7a",
   "metadata": {},
   "outputs": [],
   "source": [
    "# Program to print a right-angled triangle pattern\n",
    "\n",
    "for i in range(1, 6):\n",
    "    print(\"*\" * i)\n"
   ]
  },
  {
   "cell_type": "code",
   "execution_count": null,
   "id": "128695f0-87bb-4bc0-b61e-c81b4ce288af",
   "metadata": {},
   "outputs": [],
   "source": [
    "# Program to multiply two matrices using nested loops\n",
    "\n",
    "\n",
    "A = [[1, 2],\n",
    "     [3, 4]]\n",
    "\n",
    "B = [[5, 6],\n",
    "     [7, 8]]\n",
    "\n",
    "result = [[0, 0],\n",
    "          [0, 0]]\n",
    "\n",
    "for i in range(len(A)):\n",
    "    for j in range(len(B[0])):\n",
    "        for k in range(len(B)):\n",
    "            result[i][j] += A[i][k] * B[k][j]\n",
    "\n",
    "print(\"Result of Matrix Multiplication:\")\n",
    "for r in result:\n",
    "    print(r)\n"
   ]
  },
  {
   "cell_type": "code",
   "execution_count": null,
   "id": "71e622c8-469c-4cd1-a6c7-7661b9d26b61",
   "metadata": {},
   "outputs": [],
   "source": [
    "# Program to print chessboard pattern of size 8x8\n",
    "\n",
    "for i in range(8):\n",
    "    for j in range(8):\n",
    "        if (i + j) % 2 == 0:\n",
    "            print(\"X\", end=\" \")\n",
    "        else:\n",
    "            print(\"O\", end=\" \")\n",
    "    print()\n"
   ]
  },
  {
   "cell_type": "code",
   "execution_count": null,
   "id": "850fb66e-9b2c-4f71-9710-1e3f7acd1ba9",
   "metadata": {},
   "outputs": [],
   "source": [
    "\n",
    "rows = 5\n",
    "\n",
    "for i in range(1, rows + 1):\n",
    "    print(str(i) * i)\n"
   ]
  },
  {
   "cell_type": "code",
   "execution_count": null,
   "id": "f564bc27-4367-42e2-b249-08ef0b37f515",
   "metadata": {},
   "outputs": [],
   "source": [
    "\n",
    "\n",
    "numbers = [10, 20, 30, 40, 50]\n",
    "total = 0\n",
    "\n",
    "for num in numbers:\n",
    "    total += num\n",
    "\n",
    "print(\"Sum of list elements:\", total)\n"
   ]
  },
  {
   "cell_type": "code",
   "execution_count": null,
   "id": "5d9dd815-5ad1-4532-ba29-573acdf29abf",
   "metadata": {},
   "outputs": [],
   "source": [
    "# Program to calculate average of list elements\n",
    "\n",
    "numbers = [5, 10, 15, 20, 25]\n",
    "total = 0\n",
    "\n",
    "for num in numbers:\n",
    "    total += num\n",
    "\n",
    "average = total / len(numbers)\n",
    "print(\"Average of list elements:\", average)\n"
   ]
  },
  {
   "cell_type": "code",
   "execution_count": null,
   "id": "b6491fcd-94d2-48fd-87c9-28138e01f4a5",
   "metadata": {},
   "outputs": [],
   "source": [
    "# Program to find maximum and minimum in a list\n",
    "\n",
    "numbers = [12, 45, 2, 67, 33, 90, 10]\n",
    "\n",
    "max_num = numbers[0]\n",
    "min_num = numbers[0]\n",
    "\n",
    "for num in numbers:\n",
    "    if num > max_num:\n",
    "        max_num = num\n",
    "    if num < min_num:\n",
    "        min_num = num\n",
    "\n",
    "print(\"Maximum value:\", max_num)\n",
    "print(\"Minimum value:\", min_num)\n"
   ]
  },
  {
   "cell_type": "code",
   "execution_count": null,
   "id": "c0165f93-984b-4165-babe-a0f799a901d2",
   "metadata": {},
   "outputs": [],
   "source": [
    "# Program to sort a list in ascending order\n",
    "\n",
    "numbers = [7, 2, 5, 9, 1, 3]\n",
    "\n",
    "for i in range(len(numbers)):\n",
    "    for j in range(i + 1, len(numbers)):\n",
    "        if numbers[i] > numbers[j]:\n",
    "            numbers[i], numbers[j] = numbers[j], numbers[i]\n",
    "\n",
    "print(\"Sorted list:\", numbers)\n"
   ]
  },
  {
   "cell_type": "code",
   "execution_count": null,
   "id": "14d49539-47d6-4bda-903a-fc34a0a233f8",
   "metadata": {},
   "outputs": [],
   "source": [
    "# Program to filter even numbers from a list\n",
    "\n",
    "numbers = [10, 15, 20, 25, 30, 35, 40]\n",
    "even_numbers = []\n",
    "\n",
    "for num in numbers:\n",
    "    if num % 2 == 0:\n",
    "        even_numbers.append(num)\n",
    "\n",
    "print(\"Even numbers:\", even_numbers)\n"
   ]
  },
  {
   "cell_type": "code",
   "execution_count": null,
   "id": "78075f00-b617-4c48-9536-49e0003fdc98",
   "metadata": {},
   "outputs": [],
   "source": [
    "# Program to reverse a list without using built-in functions\n",
    "\n",
    "numbers = [1, 2, 3, 4, 5]\n",
    "reversed_list = []\n",
    "i = len(numbers) - 1\n",
    "\n",
    "while i >= 0:\n",
    "    reversed_list.append(numbers[i])\n",
    "    i -= 1\n",
    "\n",
    "print(\"Reversed list:\", reversed_list)\n"
   ]
  },
  {
   "cell_type": "code",
   "execution_count": null,
   "id": "1c5b567d-b7de-4161-8876-72e4738631be",
   "metadata": {},
   "outputs": [],
   "source": [
    "# Program to find common elements between two lists\n",
    "\n",
    "list1 = [1, 2, 3, 4, 5]\n",
    "list2 = [4, 5, 6, 7, 8]\n",
    "common = []\n",
    "\n",
    "for item in list1:\n",
    "    if item in list2:\n",
    "        common.append(item)\n",
    "\n",
    "print(\"Common elements:\", common)\n"
   ]
  },
  {
   "cell_type": "code",
   "execution_count": null,
   "id": "f123b58b-689c-4bc4-95fc-df659155ea12",
   "metadata": {},
   "outputs": [],
   "source": [
    "# Program to count occurrences of a specific element\n",
    "\n",
    "numbers = [1, 2, 3, 2, 4, 2, 5]\n",
    "element = 2\n",
    "count = 0\n",
    "\n",
    "for num in numbers:\n",
    "    if num == element:\n",
    "        count += 1\n",
    "\n",
    "print(f\"Element {element} occurs {count} times in the list.\")\n"
   ]
  },
  {
   "cell_type": "code",
   "execution_count": null,
   "id": "e566eeaa-1d02-44fc-a7bd-bf015ea407b2",
   "metadata": {},
   "outputs": [],
   "source": [
    "# Program to remove duplicates while preserving order\n",
    "\n",
    "numbers = [1, 2, 2, 3, 4, 3, 5, 1]\n",
    "unique_list = []\n",
    "\n",
    "for num in numbers:\n",
    "    if num not in unique_list:\n",
    "        unique_list.append(num)\n",
    "\n",
    "print(\"List after removing duplicates:\", unique_list)\n"
   ]
  },
  {
   "cell_type": "code",
   "execution_count": null,
   "id": "0dfa2425-bab1-476f-85ab-d71e1cfdf09f",
   "metadata": {},
   "outputs": [],
   "source": [
    "# Program to create a list of squares using list comprehension\n",
    "\n",
    "numbers = [1, 2, 3, 4, 5]\n",
    "squares = [x ** 2 for x in numbers]\n",
    "\n",
    "print(\"Squares of list elements:\", squares)\n"
   ]
  },
  {
   "cell_type": "code",
   "execution_count": null,
   "id": "c6a4a83e-d3c0-4a0d-adb8-9cae5fc1ef1d",
   "metadata": {},
   "outputs": [],
   "source": [
    "# Program to add two matrices\n",
    "\n",
    "A = [[1, 2, 3],\n",
    "     [4, 5, 6],\n",
    "     [7, 8, 9]]\n",
    "\n",
    "B = [[9, 8, 7],\n",
    "     [6, 5, 4],\n",
    "     [3, 2, 1]]\n",
    "\n",
    "\n",
    "result = [[0, 0, 0],\n",
    "          [0, 0, 0],\n",
    "          [0, 0, 0]]\n",
    "\n",
    "for i in range(len(A)):\n",
    "    for j in range(len(A[0])):\n",
    "        result[i][j] = A[i][j] + B[i][j]\n",
    "\n",
    "print(\"Matrix Addition Result:\")\n",
    "for r in result:\n",
    "    print(r)\n"
   ]
  },
  {
   "cell_type": "code",
   "execution_count": null,
   "id": "3877b0c4-eafd-4920-86af-bdc2381905c4",
   "metadata": {},
   "outputs": [],
   "source": [
    "# Program to flatten a nested list\n",
    "\n",
    "nested_list = [[1, 2], [3, 4, 5], [6, 7]]\n",
    "flat_list = []\n",
    "\n",
    "for sublist in nested_list:\n",
    "    for item in sublist:\n",
    "        flat_list.append(item)\n",
    "\n",
    "print(\"Flattened list:\", flat_list)\n"
   ]
  },
  {
   "cell_type": "code",
   "execution_count": null,
   "id": "e4d686e8-826c-43bc-99fc-01e2f08935d4",
   "metadata": {},
   "outputs": [],
   "source": [
    "# Program to count frequency of each element in a nested list\n",
    "\n",
    "nested_list = [[1, 2, 2], [3, 1], [4, 2, 3]]\n",
    "freq = {}\n",
    "\n",
    "for sublist in nested_list:\n",
    "    for item in sublist:\n",
    "        if item in freq:\n",
    "            freq[item] += 1\n",
    "        else:\n",
    "            freq[item] = 1\n",
    "\n",
    "print(\"Element frequencies:\", freq)\n"
   ]
  },
  {
   "cell_type": "code",
   "execution_count": null,
   "id": "9e14651d-1e1b-4f37-9fdf-bc5b31c4f94b",
   "metadata": {},
   "outputs": [],
   "source": [
    "# Program to transpose a matrix\n",
    "\n",
    "matrix = [[1, 2, 3],\n",
    "          [4, 5, 6],\n",
    "          [7, 8, 9]]\n",
    "\n",
    "rows = len(matrix)\n",
    "cols = len(matrix[0])\n",
    "\n",
    "transpose = [[0 for _ in range(rows)] for _ in range(cols)]\n",
    "\n",
    "for i in range(rows):\n",
    "    for j in range(cols):\n",
    "        transpose[j][i] = matrix[i][j]\n",
    "\n",
    "print(\"Transpose of the matrix:\")\n",
    "for r in transpose:\n",
    "    print(r)\n"
   ]
  },
  {
   "cell_type": "code",
   "execution_count": null,
   "id": "738572ca-133b-4768-8b0f-12adaa34cb6a",
   "metadata": {},
   "outputs": [],
   "source": [
    "# Program to concatenate all sublists into a single list\n",
    "\n",
    "list_of_lists = [[1, 2], [3, 4], [5, 6, 7]]\n",
    "flat = []\n",
    "\n",
    "for sublist in list_of_lists:\n",
    "    for item in sublist:\n",
    "        flat.append(item)\n",
    "\n",
    "print(\"Concatenated list:\", flat)\n"
   ]
  },
  {
   "cell_type": "code",
   "execution_count": null,
   "id": "d747d58d-0769-4213-8a59-7afd3131577f",
   "metadata": {},
   "outputs": [],
   "source": [
    "# Program to concatenate two tuples\n",
    "\n",
    "tuple1 = (1, 2, 3)\n",
    "tuple2 = (4, 5, 6)\n",
    "\n",
    "result = tuple1 + tuple2\n",
    "print(\"Concatenated tuple:\", result)\n"
   ]
  },
  {
   "cell_type": "code",
   "execution_count": null,
   "id": "48790099-e891-4cd3-ac32-d2165fa4d207",
   "metadata": {},
   "outputs": [],
   "source": [
    "# Program to unpack a tuple\n",
    "\n",
    "t = (10, 20, 30)\n",
    "x, y, z = t\n",
    "\n",
    "print(\"x =\", x)\n",
    "print(\"y =\", y)\n",
    "print(\"z =\", z)\n"
   ]
  },
  {
   "cell_type": "code",
   "execution_count": null,
   "id": "c2f4df97-ee6b-4049-b597-e07e1e1ab15f",
   "metadata": {},
   "outputs": [],
   "source": [
    "# Program to sort a tuple in ascending order\n",
    "\n",
    "t = (5, 2, 9, 1, 7)\n",
    "sorted_tuple = tuple(sorted(t))\n",
    "\n",
    "print(\"Sorted tuple:\", sorted_tuple)\n"
   ]
  },
  {
   "cell_type": "code",
   "execution_count": null,
   "id": "04965be9-d0ec-42bb-87eb-4331216a0390",
   "metadata": {},
   "outputs": [],
   "source": [
    "# Program to count frequency of an element in a tuple\n",
    "\n",
    "t = (1, 2, 3, 2, 4, 2, 5)\n",
    "element = 2\n",
    "count = 0\n",
    "\n",
    "for item in t:\n",
    "    if item == element:\n",
    "        count += 1\n",
    "\n",
    "print(f\"Element {element} appears {count} times.\")\n"
   ]
  },
  {
   "cell_type": "code",
   "execution_count": null,
   "id": "1ee6b921-202c-48e8-ae9e-63459154ad57",
   "metadata": {},
   "outputs": [],
   "source": [
    "# Program to convert tuple into list\n",
    "\n",
    "t = (1, 2, 3, 4, 5)\n",
    "lst = []\n",
    "\n",
    "for item in t:\n",
    "    lst.append(item)\n",
    "\n",
    "print(\"Converted list:\", lst)\n"
   ]
  },
  {
   "cell_type": "code",
   "execution_count": null,
   "id": "6756d5a1-4e84-4648-baeb-d41d055d4a5e",
   "metadata": {},
   "outputs": [],
   "source": [
    "# Program to reverse a tuple without using built-in functions\n",
    "\n",
    "t = (1, 2, 3, 4, 5)\n",
    "reversed_tuple = ()\n",
    "i = len(t) - 1\n",
    "\n",
    "while i >= 0:\n",
    "    reversed_tuple += (t[i],)\n",
    "    i -= 1\n",
    "\n",
    "print(\"Reversed tuple:\", reversed_tuple)\n"
   ]
  },
  {
   "cell_type": "code",
   "execution_count": null,
   "id": "c85e73e1-1d3a-4c03-b193-7287a5d7cc5b",
   "metadata": {},
   "outputs": [],
   "source": [
    "# Program to extract a slice from a tuple\n",
    "\n",
    "t = (10, 20, 30, 40, 50, 60)\n",
    "slice_part = t[1:5]\n",
    "\n",
    "print(\"Tuple slice (index 1 to 4):\", slice_part)\n"
   ]
  },
  {
   "cell_type": "code",
   "execution_count": null,
   "id": "b60a4a1a-97e5-420b-9fe1-a2244664507b",
   "metadata": {},
   "outputs": [],
   "source": [
    "# Program to perform element-wise operations on two tuples\n",
    "\n",
    "tuple1 = (1, 2, 3)\n",
    "tuple2 = (4, 5, 6)\n",
    "\n",
    "addition = tuple(a + b for a, b in zip(tuple1, tuple2))\n",
    "subtraction = tuple(a - b for a, b in zip(tuple1, tuple2))\n",
    "multiplication = tuple(a * b for a, b in zip(tuple1, tuple2))\n",
    "\n",
    "print(\"Addition:\", addition)\n",
    "print(\"Subtraction:\", subtraction)\n",
    "print(\"Multiplication:\", multiplication)\n"
   ]
  },
  {
   "cell_type": "code",
   "execution_count": null,
   "id": "be67960c-4195-4e1a-88fd-c4453d953742",
   "metadata": {},
   "outputs": [],
   "source": [
    "# Program to check if an element exists in a tuple\n",
    "\n",
    "t = (10, 20, 30, 40, 50)\n",
    "element = int(input(\"Enter element to check: \"))\n",
    "\n",
    "if element in t:\n",
    "    print(element, \"exists in the tuple.\")\n",
    "else:\n",
    "    print(element, \"does not exist in the tuple.\")\n"
   ]
  },
  {
   "cell_type": "code",
   "execution_count": null,
   "id": "4deb012f-4323-49ef-9c55-96e64da6d150",
   "metadata": {},
   "outputs": [],
   "source": [
    "# Program to pack variables into a tuple\n",
    "\n",
    "a = 5\n",
    "b = 10\n",
    "c = 15\n",
    "\n",
    "packed_tuple = (a, b, c)\n",
    "print(\"Packed tuple:\", packed_tuple)\n"
   ]
  },
  {
   "cell_type": "code",
   "execution_count": null,
   "id": "b9800682-d368-4c8e-b4e9-c0e110d8303b",
   "metadata": {},
   "outputs": [],
   "source": [
    "# Program to access and print specific elements from a nested list\n",
    "\n",
    "nested_list = [[10, 20, 30], [40, 50, 60], [70, 80, 90]]\n",
    "\n",
    "print(\"First element:\", nested_list[0][0])\n",
    "print(\"Middle element:\", nested_list[1][1])\n",
    "print(\"Last element:\", nested_list[2][2])\n"
   ]
  },
  {
   "cell_type": "code",
   "execution_count": null,
   "id": "fba12b18-374a-4594-9847-a9f449eba72a",
   "metadata": {},
   "outputs": [],
   "source": [
    "# Program to flatten a nested list into a single list\n",
    "\n",
    "nested_list = [[1, 2, 3], [4, 5], [6, 7, 8, 9]]\n",
    "flat_list = []\n",
    "\n",
    "for sublist in nested_list:\n",
    "    for item in sublist:\n",
    "        flat_list.append(item)\n",
    "\n",
    "print(\"Flattened list:\", flat_list)\n"
   ]
  },
  {
   "cell_type": "code",
   "execution_count": null,
   "id": "061bb25b-59a2-45d2-9b96-e31930bd336c",
   "metadata": {},
   "outputs": [],
   "source": [
    "# Program to sort sublists by their length\n",
    "\n",
    "nested_list = [[1, 2, 3], [4, 5], [6], [7, 8, 9, 10]]\n",
    "\n",
    "for i in range(len(nested_list)):\n",
    "    for j in range(i + 1, len(nested_list)):\n",
    "        if len(nested_list[i]) > len(nested_list[j]):\n",
    "            nested_list[i], nested_list[j] = nested_list[j], nested_list[i]\n",
    "\n",
    "print(\"Sorted by sublist length:\", nested_list)\n"
   ]
  },
  {
   "cell_type": "code",
   "execution_count": null,
   "id": "1db0eaa5-4457-4170-adeb-11491367ab2d",
   "metadata": {},
   "outputs": [],
   "source": [
    "# Program to separate x and y coordinates from a list of tuples\n",
    "\n",
    "coordinates = [(1, 2), (3, 4), (5, 6), (7, 8)]\n",
    "x_values = []\n",
    "y_values = []\n",
    "\n",
    "for (x, y) in coordinates:\n",
    "    x_values.append(x)\n",
    "    y_values.append(y)\n",
    "\n",
    "print(\"X-coordinates:\", x_values)\n",
    "print(\"Y-coordinates:\", y_values)\n"
   ]
  },
  {
   "cell_type": "code",
   "execution_count": null,
   "id": "24ec80ed-cb13-46a6-8ca5-9540d5851c02",
   "metadata": {},
   "outputs": [],
   "source": [
    "# Program to transpose a matrix\n",
    "\n",
    "matrix = [[1, 2, 3],\n",
    "          [4, 5, 6],\n",
    "          [7, 8, 9]]\n",
    "\n",
    "transpose = [[0 for _ in range(len(matrix))] for _ in range(len(matrix[0]))]\n",
    "\n",
    "for i in range(len(matrix)):\n",
    "    for j in range(len(matrix[0])):\n",
    "        transpose[j][i] = matrix[i][j]\n",
    "\n",
    "print(\"Transposed matrix:\")\n",
    "for row in transpose:\n",
    "    print(row)\n"
   ]
  },
  {
   "cell_type": "code",
   "execution_count": null,
   "id": "542d7a80-7e57-4b21-9d25-a0550f9cda16",
   "metadata": {},
   "outputs": [],
   "source": [
    "# Program to concatenate all sublists into one flat list\n",
    "\n",
    "nested_list = [[1, 2], [3, 4], [5, 6, 7]]\n",
    "flat_list = []\n",
    "\n",
    "for sublist in nested_list:\n",
    "    for item in sublist:\n",
    "        flat_list.append(item)\n",
    "\n",
    "print(\"Concatenated list:\", flat_list)\n"
   ]
  },
  {
   "cell_type": "code",
   "execution_count": null,
   "id": "44c9da77-da76-40a5-a593-8f690cfbb988",
   "metadata": {},
   "outputs": [],
   "source": [
    "# Program to count even numbers in a nested list\n",
    "\n",
    "nested_list = [[1, 2, 3], [4, 6, 7], [8, 9, 10]]\n",
    "count = 0\n",
    "\n",
    "for sublist in nested_list:\n",
    "    for num in sublist:\n",
    "        if num % 2 == 0:\n",
    "            count += 1\n",
    "\n",
    "print(\"Total even numbers:\", count)\n"
   ]
  },
  {
   "cell_type": "code",
   "execution_count": null,
   "id": "301976ae-e01f-44f1-abd7-99817b148f06",
   "metadata": {},
   "outputs": [],
   "source": [
    "# Program to find maximum element in a nested list\n",
    "\n",
    "nested_list = [[10, 25, 3], [7, 50, 20], [15, 5, 30]]\n",
    "max_value = nested_list[0][0]\n",
    "\n",
    "for sublist in nested_list:\n",
    "    for num in sublist:\n",
    "        if num > max_value:\n",
    "            max_value = num\n",
    "\n",
    "print(\"Maximum element:\", max_value)\n"
   ]
  },
  {
   "cell_type": "code",
   "execution_count": null,
   "id": "35ab5ad8-8ad7-49c5-8088-f08d725c091e",
   "metadata": {},
   "outputs": [],
   "source": [
    "# Program to calculate the sum of the main diagonal of a square matrix\n",
    "\n",
    "matrix = [[1, 2, 3],\n",
    "          [4, 5, 6],\n",
    "          [7, 8, 9]]\n",
    "\n",
    "diagonal_sum = 0\n",
    "\n",
    "for i in range(len(matrix)):\n",
    "    diagonal_sum += matrix[i][i]\n",
    "\n",
    "print(\"Sum of main diagonal elements:\", diagonal_sum)\n"
   ]
  },
  {
   "cell_type": "code",
   "execution_count": null,
   "id": "144ed55f-4700-4916-ba5b-d26bc51d4d93",
   "metadata": {},
   "outputs": [],
   "source": [
    "# Program to search for a specific element in a nested list\n",
    "\n",
    "nested_list = [[10, 20, 30],\n",
    "               [40, 50, 60],\n",
    "               [70, 80, 90]]\n",
    "\n",
    "element = int(input(\"Enter element to search: \"))\n",
    "found = False\n",
    "\n",
    "for i in range(len(nested_list)):\n",
    "    for j in range(len(nested_list[i])):\n",
    "        if nested_list[i][j] == element:\n",
    "            print(f\"Element {element} found at row {i}, column {j}\")\n",
    "            found = True\n",
    "\n",
    "if not found:\n",
    "    print(\"Element not found.\")\n"
   ]
  },
  {
   "cell_type": "code",
   "execution_count": null,
   "id": "ef348def-2d69-4ed3-8088-01d4589b6f72",
   "metadata": {},
   "outputs": [],
   "source": [
    "# Program to remove duplicates from a list using a set\n",
    "\n",
    "elements = [1, 2, 2, 3, 4, 4, 5, 6, 6]\n",
    "unique_set = set(elements)\n",
    "\n",
    "print(\"Original list:\", elements)\n",
    "print(\"Unique elements as set:\", unique_set)\n"
   ]
  },
  {
   "cell_type": "code",
   "execution_count": null,
   "id": "f8012ecd-8355-41d5-97e8-e735a9636c14",
   "metadata": {},
   "outputs": [],
   "source": [
    "# Program to find intersection of two sets\n",
    "\n",
    "A = {1, 2, 3, 4, 5}\n",
    "B = {4, 5, 6, 7, 8}\n",
    "\n",
    "intersection = A & B\n",
    "print(\"Intersection (common elements):\", intersection)\n"
   ]
  },
  {
   "cell_type": "code",
   "execution_count": null,
   "id": "afcad9ed-19ec-4158-89d1-6c86272dde24",
   "metadata": {},
   "outputs": [],
   "source": [
    "# Program to find union of two sets\n",
    "\n",
    "A = {1, 2, 3, 4}\n",
    "B = {3, 4, 5, 6}\n",
    "\n",
    "union = A | B\n",
    "print(\"Union of A and B:\", union)\n"
   ]
  },
  {
   "cell_type": "code",
   "execution_count": null,
   "id": "8f3a3f92-4827-487f-a5a3-34533585b766",
   "metadata": {},
   "outputs": [],
   "source": [
    "# Program to find difference between two sets (A - B)\n",
    "\n",
    "A = {1, 2, 3, 4, 5}\n",
    "B = {3, 4, 6, 7}\n",
    "\n",
    "difference = A - B\n",
    "print(\"Difference (A - B):\", difference)\n"
   ]
  },
  {
   "cell_type": "code",
   "execution_count": null,
   "id": "132e2d41-6283-477e-a904-7d2fe4a7af66",
   "metadata": {},
   "outputs": [],
   "source": [
    "# Program to find symmetric difference between two sets\n",
    "\n",
    "A = {1, 2, 3, 4}\n",
    "B = {3, 4, 5, 6}\n",
    "\n",
    "symmetric_diff = A ^ B\n",
    "print(\"Symmetric Difference:\", symmetric_diff)\n"
   ]
  },
  {
   "cell_type": "code",
   "execution_count": null,
   "id": "8f17e480-a664-488f-bdd1-d05d2a3a20c1",
   "metadata": {},
   "outputs": [],
   "source": [
    "# Program to perform multiple set operations\n",
    "\n",
    "A = {1, 2, 3, 4}\n",
    "B = {3, 4, 5, 6}\n",
    "C = {5, 6, 7, 8}\n",
    "\n",
    "print(\"Intersection of A and B:\", A & B)\n",
    "print(\"Union of B and C:\", B | C)\n",
    "print(\"Difference between C and A:\", C - A)\n"
   ]
  },
  {
   "cell_type": "code",
   "execution_count": null,
   "id": "29cd7103-a440-4a4d-aab3-32880166f31f",
   "metadata": {},
   "outputs": [],
   "source": [
    "# Program to check if A is subset of B\n",
    "\n",
    "A = {1, 2}\n",
    "B = {1, 2, 3, 4}\n",
    "\n",
    "if A.issubset(B):\n",
    "    print(\"A is a subset of B\")\n",
    "else:\n",
    "    print(\"A is not a subset of B\")\n"
   ]
  },
  {
   "cell_type": "code",
   "execution_count": null,
   "id": "a09df6e3-838c-4779-99b5-681bc158bf22",
   "metadata": {},
   "outputs": [],
   "source": [
    "# Program to check if A is superset of B\n",
    "\n",
    "A = {1, 2, 3, 4, 5}\n",
    "B = {2, 3}\n",
    "\n",
    "if A.issuperset(B):\n",
    "    print(\"A is a superset of B\")\n",
    "else:\n",
    "    print(\"A is not a superset of B\")\n"
   ]
  },
  {
   "cell_type": "code",
   "execution_count": null,
   "id": "595f2d31-ea93-48c4-a120-688cf6180381",
   "metadata": {},
   "outputs": [],
   "source": [
    "# Program to check the number of elements in a set\n",
    "\n",
    "A = {10, 20, 30, 40, 50}\n",
    "print(\"Set:\", A)\n",
    "print(\"Number of elements:\", len(A))\n"
   ]
  },
  {
   "cell_type": "code",
   "execution_count": null,
   "id": "da155263-dd31-4ce7-8632-2245a2e1f558",
   "metadata": {},
   "outputs": [],
   "source": [
    "# Program to test membership in a set\n",
    "\n",
    "A = {10, 20, 30, 40, 50}\n",
    "element = int(input(\"Enter an element to search: \"))\n",
    "\n",
    "if element in A:\n",
    "    print(\"Found\")\n",
    "else:\n",
    "    print(\"Not Found\")\n"
   ]
  },
  {
   "cell_type": "code",
   "execution_count": null,
   "id": "67bf6f5a-f2f6-450c-8b80-30da11237a64",
   "metadata": {},
   "outputs": [],
   "source": [
    "# Program to add and update students in a dictionary\n",
    "\n",
    "students = {\"Alice\": 85, \"Bob\": 90, \"Charlie\": 78}\n",
    "\n",
    "# Add a new student\n",
    "students[\"David\"] = 88\n",
    "\n",
    "# Update score of an existing student\n",
    "students[\"Alice\"] = 92\n",
    "\n",
    "print(\"Updated Dictionary:\", students)\n"
   ]
  },
  {
   "cell_type": "code",
   "execution_count": null,
   "id": "21981b16-8938-4767-8f64-94d32ae1d243",
   "metadata": {},
   "outputs": [],
   "source": [
    "# Program to print all keys and values of a dictionary\n",
    "\n",
    "info = {\"Name\": \"Saif\", \"Age\": 21, \"City\": \"Dhaka\"}\n",
    "\n",
    "print(\"Keys:\")\n",
    "for key in info.keys():\n",
    "    print(key)\n",
    "\n",
    "print(\"\\nValues:\")\n",
    "for value in info.values():\n",
    "    print(value)\n"
   ]
  },
  {
   "cell_type": "code",
   "execution_count": null,
   "id": "12c96ccb-1b42-4de9-b04c-423470b092e1",
   "metadata": {},
   "outputs": [],
   "source": [
    "# Program to count the number of key-value pairs in a dictionary\n",
    "\n",
    "data = {\"a\": 1, \"b\": 2, \"c\": 3, \"d\": 4}\n",
    "print(\"Number of key-value pairs:\", len(data))\n"
   ]
  },
  {
   "cell_type": "code",
   "execution_count": null,
   "id": "a0a85441-7f89-4ef5-a741-aeaa3480cef3",
   "metadata": {},
   "outputs": [],
   "source": [
    "# Program to find an item by price in a dictionary\n",
    "\n",
    "items = {\"Pen\": 10, \"Book\": 50, \"Pencil\": 5, \"Bag\": 300}\n",
    "price = int(input(\"Enter price to search: \"))\n",
    "\n",
    "found = False\n",
    "for item, value in items.items():\n",
    "    if value == price:\n",
    "        print(\"Item found:\", item)\n",
    "        found = True\n",
    "        break\n",
    "\n",
    "if not found:\n",
    "    print(\"No item found with that price.\")\n"
   ]
  },
  {
   "cell_type": "code",
   "execution_count": null,
   "id": "05160ac2-0841-437b-876a-44b5b0c06194",
   "metadata": {},
   "outputs": [],
   "source": [
    "# Program to merge two dictionaries\n",
    "\n",
    "dict1 = {\"a\": 1, \"b\": 2}\n",
    "dict2 = {\"c\": 3, \"d\": 4}\n",
    "\n",
    "merged = dict1 | dict2  # Works in Python 3.9+\n",
    "print(\"Merged Dictionary:\", merged)\n"
   ]
  },
  {
   "cell_type": "code",
   "execution_count": null,
   "id": "3365b398-4af9-4460-affc-f7493b5336ce",
   "metadata": {},
   "outputs": [],
   "source": [
    "# Program to remove an item from a dictionary\n",
    "\n",
    "items = {\"Apple\": 5, \"Banana\": 10, \"Cherry\": 20}\n",
    "print(\"Current Dictionary:\", items)\n",
    "\n",
    "key = input(\"Enter item to remove: \")\n",
    "\n",
    "if key in items:\n",
    "    del items[key]\n",
    "    print(\"Updated Dictionary:\", items)\n",
    "else:\n",
    "    print(\"Item not found.\")\n"
   ]
  },
  {
   "cell_type": "code",
   "execution_count": null,
   "id": "d069c9a3-4658-4abc-b1d1-b9209feea8f3",
   "metadata": {},
   "outputs": [],
   "source": [
    "# Program to sort dictionary by age (value)\n",
    "\n",
    "ages = {\"Alice\": 25, \"Bob\": 19, \"Charlie\": 23}\n",
    "sorted_dict = dict(sorted(ages.items(), key=lambda x: x[1]))\n",
    "\n",
    "print(\"Dictionary sorted by age:\", sorted_dict)\n"
   ]
  },
  {
   "cell_type": "code",
   "execution_count": null,
   "id": "8de5d724-7ed1-4fbf-be06-99fe677d8c17",
   "metadata": {},
   "outputs": [],
   "source": [
    "# Program to count character frequency in a string\n",
    "\n",
    "text = input(\"Enter a string: \")\n",
    "freq = {}\n",
    "\n",
    "for ch in text:\n",
    "    freq[ch] = freq.get(ch, 0) + 1\n",
    "\n",
    "print(\"Character Frequency:\", freq)\n"
   ]
  },
  {
   "cell_type": "code",
   "execution_count": null,
   "id": "428f1039-5399-422e-b3ea-a34df198d847",
   "metadata": {},
   "outputs": [],
   "source": [
    "# Program to create dictionary of numbers and their squares\n",
    "\n",
    "numbers = [1, 2, 3, 4, 5]\n",
    "squares = {x: x**2 for x in numbers}\n",
    "\n",
    "print(\"Dictionary of squares:\", squares)\n"
   ]
  },
  {
   "cell_type": "code",
   "execution_count": null,
   "id": "55095f4f-6c2a-4fa4-b24d-fd677b3c1391",
   "metadata": {},
   "outputs": [],
   "source": [
    "# Program to check if a key exists in a dictionary\n",
    "\n",
    "student = {\"name\": \"Rafi\", \"age\": 20, \"grade\": \"A\"}\n",
    "key = input(\"Enter key to check: \")\n",
    "\n",
    "if key in student:\n",
    "    print(\"Key Found\")\n",
    "else:\n",
    "    print(\"Key Not Found\")\n"
   ]
  },
  {
   "cell_type": "code",
   "execution_count": null,
   "id": "d987cde6-7050-47c6-9b76-e10918e4a5ed",
   "metadata": {},
   "outputs": [],
   "source": [
    "# Program to access and print specific information from a nested dictionary\n",
    "\n",
    "student = {\n",
    "    \"101\": {\"name\": \"Alice\", \"age\": 20, \"address\": \"Dhaka\"},\n",
    "    \"102\": {\"name\": \"Bob\", \"age\": 22, \"address\": \"Chittagong\"}\n",
    "}\n",
    "\n",
    "sid = \"101\"\n",
    "print(\"Name:\", student[sid][\"name\"])\n",
    "print(\"Age:\", student[sid][\"age\"])\n",
    "print(\"Address:\", student[sid][\"address\"])\n"
   ]
  },
  {
   "cell_type": "code",
   "execution_count": null,
   "id": "f8f95ca2-b40e-4d54-8e1c-3ab242da138d",
   "metadata": {},
   "outputs": [],
   "source": [
    "# Program to count total key-value pairs in a nested dictionary\n",
    "\n",
    "data = {\n",
    "    \"emp1\": {\"name\": \"Rahim\", \"age\": 25},\n",
    "    \"emp2\": {\"name\": \"Karim\", \"age\": 30}\n",
    "}\n",
    "\n",
    "count = 0\n",
    "for subdict in data.values():\n",
    "    count += len(subdict)\n",
    "\n",
    "print(\"Total key-value pairs:\", count)\n"
   ]
  },
  {
   "cell_type": "code",
   "execution_count": null,
   "id": "cda420e2-1ebb-4c62-9ce0-b75cf55a02e3",
   "metadata": {},
   "outputs": [],
   "source": [
    "# Program to update an employee's salary based on ID\n",
    "\n",
    "employees = {\n",
    "    \"E101\": {\"name\": \"Nusrat\", \"salary\": 50000},\n",
    "    \"E102\": {\"name\": \"Hasan\", \"salary\": 60000}\n",
    "}\n",
    "\n",
    "emp_id = input(\"Enter Employee ID to update salary: \")\n",
    "if emp_id in employees:\n",
    "    new_salary = int(input(\"Enter new salary: \"))\n",
    "    employees[emp_id][\"salary\"] = new_salary\n",
    "    print(\"Updated Details:\", employees[emp_id])\n",
    "else:\n",
    "    print(\"Employee ID not found.\")\n"
   ]
  },
  {
   "cell_type": "code",
   "execution_count": null,
   "id": "a1ab0521-9417-48fd-a273-67193a344415",
   "metadata": {},
   "outputs": [],
   "source": [
    "# Program to sort products by price\n",
    "\n",
    "products = {\n",
    "    \"P1\": {\"name\": \"Laptop\", \"price\": 900, \"qty\": 5},\n",
    "    \"P2\": {\"name\": \"Phone\", \"price\": 500, \"qty\": 10},\n",
    "    \"P3\": {\"name\": \"Tablet\", \"price\": 300, \"qty\": 7}\n",
    "}\n",
    "\n",
    "sorted_products = dict(sorted(products.items(), key=lambda x: x[1][\"price\"]))\n",
    "print(\"Products sorted by price:\")\n",
    "for pid, info in sorted_products.items():\n",
    "    print(info[\"name\"], \"→\", info[\"price\"])\n"
   ]
  },
  {
   "cell_type": "code",
   "execution_count": null,
   "id": "96d4397b-b242-47ba-a3c6-1aa17d6cd132",
   "metadata": {},
   "outputs": [],
   "source": [
    "# Program to search for a key in nested dictionary\n",
    "\n",
    "data = {\n",
    "    \"A\": {\"x\": 1, \"y\": 2},\n",
    "    \"B\": {\"x\": 3, \"z\": 4}\n",
    "}\n",
    "\n",
    "key = input(\"Enter key to search: \")\n",
    "found = False\n",
    "\n",
    "for subdict in data.values():\n",
    "    if key in subdict:\n",
    "        print(\"Value:\", subdict[key])\n",
    "        found = True\n",
    "        break\n",
    "\n",
    "if not found:\n",
    "    print(\"Key Not Found\")\n"
   ]
  },
  {
   "cell_type": "code",
   "execution_count": null,
   "id": "ab5a3a52-741d-4ceb-8109-cdd9b64a3943",
   "metadata": {},
   "outputs": [],
   "source": [
    "# Program to check if a number is prime using break\n",
    "\n",
    "num = int(input(\"Enter a number: \"))\n",
    "if num < 2:\n",
    "    print(\"Not Prime\")\n",
    "else:\n",
    "    for i in range(2, num):\n",
    "        if num % i == 0:\n",
    "            print(\"Not Prime\")\n",
    "            break\n",
    "    else:\n",
    "        print(\"Prime Number\")\n"
   ]
  },
  {
   "cell_type": "code",
   "execution_count": null,
   "id": "fc1e0137-3379-438c-95f6-22b57c76bf1b",
   "metadata": {},
   "outputs": [],
   "source": [
    "# Program to print even numbers from 1 to 20 using continue\n",
    "\n",
    "for i in range(1, 21):\n",
    "    if i % 2 != 0:\n",
    "        continue\n",
    "    print(i, end=\" \")\n"
   ]
  },
  {
   "cell_type": "code",
   "execution_count": null,
   "id": "21c8d13f-e4f7-4593-9139-af59d73a3e45",
   "metadata": {},
   "outputs": [],
   "source": [
    "# Program to validate password using continue\n",
    "\n",
    "while True:\n",
    "    password = input(\"Enter password: \")\n",
    "    if len(password) < 8:\n",
    "        print(\"Too short, try again.\")\n",
    "        continue\n",
    "    if not any(ch.isupper() for ch in password):\n",
    "        print(\"Must contain an uppercase letter.\")\n",
    "        continue\n",
    "    if not any(ch.islower() for ch in password):\n",
    "        print(\"Must contain a lowercase letter.\")\n",
    "        continue\n",
    "    if not any(ch.isdigit() for ch in password):\n",
    "        print(\"Must contain a number.\")\n",
    "        continue\n",
    "    print(\"Password accepted.\")\n",
    "    break\n"
   ]
  },
  {
   "cell_type": "code",
   "execution_count": null,
   "id": "c23b7397-81ed-4257-9c1a-3df34f0cdc5e",
   "metadata": {},
   "outputs": [],
   "source": [
    "# Program to print numbers divisible by 3 or 5 using continue\n",
    "\n",
    "for i in range(1, 51):\n",
    "    if i % 3 != 0 and i % 5 != 0:\n",
    "        continue\n",
    "    print(i, end=\" \")\n"
   ]
  },
  {
   "cell_type": "code",
   "execution_count": null,
   "id": "fc8fbe60-d7e2-4877-b891-fba33d4a9ae3",
   "metadata": {},
   "outputs": [],
   "source": [
    "# Program to sum positive numbers until a negative number is entered\n",
    "\n",
    "total = 0\n",
    "while True:\n",
    "    n = int(input(\"Enter a number: \"))\n",
    "    if n < 0:\n",
    "        break\n",
    "    total += n\n",
    "\n",
    "print(\"Sum of positive numbers:\", total)\n"
   ]
  },
  {
   "cell_type": "code",
   "execution_count": null,
   "id": "17999afc-f4b1-4347-8741-399cdb717c3e",
   "metadata": {},
   "outputs": [],
   "source": [
    "# Program to check palindrome word using continue\n",
    "\n",
    "word = input(\"Enter a word: \")\n",
    "\n",
    "if len(word) < 3:\n",
    "    print(\"Too short, skipping check.\")\n",
    "else:\n",
    "    if word == word[::-1]:\n",
    "        print(\"Palindrome\")\n",
    "    else:\n",
    "        print(\"Not Palindrome\")\n"
   ]
  },
  {
   "cell_type": "code",
   "execution_count": null,
   "id": "8f2d9d1c-81d5-49e1-8784-e5b6db3b616a",
   "metadata": {},
   "outputs": [],
   "source": [
    "# Program to find first odd number using break\n",
    "\n",
    "nums = [2, 4, 6, 9, 12, 15]\n",
    "for n in nums:\n",
    "    if n % 2 != 0:\n",
    "        print(\"First odd number:\", n)\n",
    "        break\n"
   ]
  },
  {
   "cell_type": "code",
   "execution_count": 1,
   "id": "32dfee4b-26e3-4e27-88a2-27d908214886",
   "metadata": {},
   "outputs": [
    {
     "name": "stdin",
     "output_type": "stream",
     "text": [
      "Enter a string:  quest\n"
     ]
    },
    {
     "name": "stdout",
     "output_type": "stream",
     "text": [
      "Number of vowels: 2\n"
     ]
    }
   ],
   "source": [
    "# Program to count vowels using continue\n",
    "\n",
    "text = input(\"Enter a string: \")\n",
    "vowels = \"aeiouAEIOU\"\n",
    "count = 0\n",
    "\n",
    "for ch in text:\n",
    "    if ch not in vowels:\n",
    "        continue\n",
    "    count += 1\n",
    "\n",
    "print(\"Number of vowels:\", count)\n"
   ]
  },
  {
   "cell_type": "code",
   "execution_count": 2,
   "id": "64c2e8e0-dff1-400d-9e68-158f66a7437b",
   "metadata": {},
   "outputs": [
    {
     "name": "stdin",
     "output_type": "stream",
     "text": [
      "Enter a string:  chance\n"
     ]
    },
    {
     "name": "stdout",
     "output_type": "stream",
     "text": [
      "Repeated character found: c\n"
     ]
    }
   ],
   "source": [
    "# Program to check if all characters are unique\n",
    "\n",
    "word = input(\"Enter a string: \")\n",
    "unique = set()\n",
    "\n",
    "for ch in word:\n",
    "    if ch in unique:\n",
    "        print(\"Repeated character found:\", ch)\n",
    "        break\n",
    "    unique.add(ch)\n",
    "else:\n",
    "    print(\"All characters are unique.\")\n"
   ]
  },
  {
   "cell_type": "code",
   "execution_count": 3,
   "id": "4d198eef-9723-4749-9951-abb0a1b06b75",
   "metadata": {},
   "outputs": [
    {
     "name": "stdin",
     "output_type": "stream",
     "text": [
      "Enter a number:  5\n"
     ]
    },
    {
     "name": "stdout",
     "output_type": "stream",
     "text": [
      "Factorial of 5 is 120\n"
     ]
    }
   ],
   "source": [
    "# Function to calculate factorial\n",
    "\n",
    "def factorial(n):\n",
    "    fact = 1\n",
    "    for i in range(1, n + 1):\n",
    "        fact *= i\n",
    "    return fact\n",
    "\n",
    "# Test\n",
    "num = int(input(\"Enter a number: \"))\n",
    "print(\"Factorial of\", num, \"is\", factorial(num))\n"
   ]
  },
  {
   "cell_type": "code",
   "execution_count": 5,
   "id": "bcf82d92-78ec-409e-9c49-2ef7da0d3657",
   "metadata": {},
   "outputs": [
    {
     "name": "stdin",
     "output_type": "stream",
     "text": [
      "Enter a word:  deed\n"
     ]
    },
    {
     "name": "stdout",
     "output_type": "stream",
     "text": [
      "Palindrome\n"
     ]
    }
   ],
   "source": [
    "# Function to check palindrome string\n",
    "\n",
    "def is_palindrome(word):\n",
    "    return word == word[::-1]\n",
    "\n",
    "# Test\n",
    "text = input(\"Enter a word: \")\n",
    "if is_palindrome(text):\n",
    "    print(\"Palindrome\")\n",
    "else:\n",
    "    print(\"Not Palindrome\")\n",
    "\n"
   ]
  },
  {
   "cell_type": "code",
   "execution_count": 6,
   "id": "f189d42a-7834-424f-a70e-08aa1e1c136e",
   "metadata": {},
   "outputs": [
    {
     "name": "stdout",
     "output_type": "stream",
     "text": [
      "Even\n",
      "Odd\n"
     ]
    }
   ],
   "source": [
    "# Function to check if a number is even or odd\n",
    "def even_or_odd(num):\n",
    "    if num % 2 == 0:\n",
    "        return \"Even\"\n",
    "    else:\n",
    "        return \"Odd\"\n",
    "\n",
    "# Test\n",
    "print(even_or_odd(10))  \n",
    "print(even_or_odd(7))   \n"
   ]
  },
  {
   "cell_type": "code",
   "execution_count": 7,
   "id": "7d7d456a-3853-4fe7-a6b8-c2707ad036d5",
   "metadata": {},
   "outputs": [
    {
     "name": "stdout",
     "output_type": "stream",
     "text": [
      "15\n",
      "60\n"
     ]
    }
   ],
   "source": [
    "# Function to find the sum of all elements in a list\n",
    "def list_sum(numbers):\n",
    "    total = 0\n",
    "    for n in numbers:\n",
    "        total += n\n",
    "    return total\n",
    "\n",
    "\n",
    "print(list_sum([1, 2, 3, 4, 5])) \n",
    "print(list_sum([10, 20, 30]))     \n"
   ]
  },
  {
   "cell_type": "code",
   "execution_count": 8,
   "id": "fedce3f2-26c8-4145-8f49-7318b99c0bd7",
   "metadata": {},
   "outputs": [
    {
     "name": "stdout",
     "output_type": "stream",
     "text": [
      "12\n",
      "4\n"
     ]
    }
   ],
   "source": [
    "# Function to find GCD of two numbers\n",
    "def gcd(a, b):\n",
    "    while b != 0:\n",
    "        a, b = b, a % b\n",
    "    return a\n",
    "\n",
    "\n",
    "print(gcd(24, 36))  \n",
    "print(gcd(8, 12))   \n"
   ]
  },
  {
   "cell_type": "code",
   "execution_count": 9,
   "id": "b388903d-4065-48cc-9ff2-1d63c73940e2",
   "metadata": {},
   "outputs": [
    {
     "name": "stdout",
     "output_type": "stream",
     "text": [
      "True\n",
      "False\n"
     ]
    }
   ],
   "source": [
    "# Function to check if a year is a leap year\n",
    "def is_leap_year(year):\n",
    "    return (year % 4 == 0 and year % 100 != 0) or (year % 400 == 0)\n",
    "\n",
    "# Test\n",
    "print(is_leap_year(2024))\n",
    "print(is_leap_year(2023))  \n"
   ]
  },
  {
   "cell_type": "code",
   "execution_count": 11,
   "id": "48f53fa7-c2ed-403f-bbd2-1fb289a7e20f",
   "metadata": {},
   "outputs": [
    {
     "name": "stdout",
     "output_type": "stream",
     "text": [
      "9\n",
      "2.5\n"
     ]
    }
   ],
   "source": [
    "# Function with nested functions for math operations\n",
    "def math_operations(a, b, c, operation):\n",
    "    def add(x, y, z):\n",
    "        return x + y + z\n",
    "    def subtract(x, y, z):\n",
    "        return x - y - z\n",
    "    def multiply(x, y, z):\n",
    "        return x * y * z\n",
    "    def divide(x, y, z):\n",
    "        if y == 0 or z == 0:\n",
    "            return \"Division by zero not allowed\"\n",
    "        return x / y / z\n",
    "\n",
    "    if operation == \"add\":\n",
    "        return add(a, b, c)\n",
    "    elif operation == \"subtract\":\n",
    "        return subtract(a, b, c)\n",
    "    elif operation == \"multiply\":\n",
    "        return multiply(a, b, c)\n",
    "    elif operation == \"divide\":\n",
    "        return divide(a, b, c)\n",
    "    else:\n",
    "        return \"Invalid operation\"\n",
    "\n",
    "# Test\n",
    "print(math_operations(2, 3, 4, \"add\"))\n",
    "print(math_operations(10, 2, 2, \"divide\"))\n"
   ]
  },
  {
   "cell_type": "code",
   "execution_count": 12,
   "id": "b59ff03a-3b60-48b5-b956-0eacf348585d",
   "metadata": {},
   "outputs": [
    {
     "name": "stdout",
     "output_type": "stream",
     "text": [
      "Hello, Saif! How are you today?\n",
      "Hello, Nadia! How are you today?\n"
     ]
    }
   ],
   "source": [
    "# Function using nested function to generate a greeting\n",
    "def greeting_generator(name):\n",
    "    def create_greeting(person):\n",
    "        return f\"Hello, {person}! How are you today?\"\n",
    "    return create_greeting(name)\n",
    "\n",
    "# Test\n",
    "print(greeting_generator(\"Saif\"))\n",
    "print(greeting_generator(\"Nadia\"))\n"
   ]
  },
  {
   "cell_type": "code",
   "execution_count": 13,
   "id": "c3330d41-10cf-4666-bd52-6a53cce5b9d9",
   "metadata": {},
   "outputs": [
    {
     "name": "stdout",
     "output_type": "stream",
     "text": [
      "212.0\n",
      "100.0\n"
     ]
    }
   ],
   "source": [
    "# Function using nested functions to convert temperature\n",
    "def temperature_converter(value, scale):\n",
    "    def c_to_f(c):\n",
    "        return (c * 9/5) + 32\n",
    "    def f_to_c(f):\n",
    "        return (f - 32) * 5/9\n",
    "\n",
    "    if scale.upper() == \"C\":\n",
    "        return c_to_f(value)\n",
    "    elif scale.upper() == \"F\":\n",
    "        return f_to_c(value)\n",
    "    else:\n",
    "        return \"Invalid scale\"\n",
    "\n",
    "# Test\n",
    "print(temperature_converter(100, \"C\"))  \n",
    "print(temperature_converter(212, \"F\"))  "
   ]
  },
  {
   "cell_type": "code",
   "execution_count": 14,
   "id": "bd00c184-39b5-4250-b282-3b66e5f88c91",
   "metadata": {},
   "outputs": [
    {
     "name": "stdout",
     "output_type": "stream",
     "text": [
      "120\n",
      "1\n"
     ]
    }
   ],
   "source": [
    "# Recursive function to calculate factorial\n",
    "def factorial(n):\n",
    "    if n == 0 or n == 1:\n",
    "        return 1\n",
    "    return n * factorial(n - 1)\n",
    "\n",
    "# Test\n",
    "print(factorial(5))  \n",
    "print(factorial(0))  \n"
   ]
  },
  {
   "cell_type": "code",
   "execution_count": 15,
   "id": "d5659090-17b3-4921-b773-8dbff5466dee",
   "metadata": {},
   "outputs": [
    {
     "name": "stdout",
     "output_type": "stream",
     "text": [
      "0 1 1 2 3 5 8 13 "
     ]
    }
   ],
   "source": [
    "# Recursive function to return nth Fibonacci number\n",
    "def Fibonacci(n):\n",
    "    if n == 0:\n",
    "        return 0\n",
    "    elif n == 1:\n",
    "        return 1\n",
    "    return Fibonacci(n - 1) + Fibonacci(n - 2)\n",
    "\n",
    "# Test\n",
    "for i in range(8):\n",
    "    print(Fibonacci(i), end=\" \")  "
   ]
  },
  {
   "cell_type": "code",
   "execution_count": 16,
   "id": "df2c76b1-c84b-42c7-b965-9bff133a27f6",
   "metadata": {},
   "outputs": [
    {
     "name": "stdout",
     "output_type": "stream",
     "text": [
      "10\n",
      "24\n"
     ]
    }
   ],
   "source": [
    "# Recursive function to find sum of digits\n",
    "def sum_of_digits(n):\n",
    "    if n == 0:\n",
    "        return 0\n",
    "    return (n % 10) + sum_of_digits(n // 10)\n",
    "\n",
    "# Test\n",
    "print(sum_of_digits(1234))  \n",
    "print(sum_of_digits(987))   "
   ]
  },
  {
   "cell_type": "code",
   "execution_count": 17,
   "id": "65ccb6bd-7114-40f2-b8ac-f9e3bfd8403c",
   "metadata": {},
   "outputs": [
    {
     "name": "stdout",
     "output_type": "stream",
     "text": [
      "3\n",
      "-1\n"
     ]
    }
   ],
   "source": [
    "# Recursive function for binary search\n",
    "def binary_search(arr, target, low, high):\n",
    "    if low > high:\n",
    "        return -1\n",
    "\n",
    "    mid = (low + high) // 2\n",
    "    if arr[mid] == target:\n",
    "        return mid\n",
    "    elif arr[mid] > target:\n",
    "        return binary_search(arr, target, low, mid - 1)\n",
    "    else:\n",
    "        return binary_search(arr, target, mid + 1, high)\n",
    "\n",
    "# Test\n",
    "nums = [2, 4, 6, 8, 10, 12]\n",
    "print(binary_search(nums, 8, 0, len(nums) - 1))   \n",
    "print(binary_search(nums, 5, 0, len(nums) - 1))   \n"
   ]
  },
  {
   "cell_type": "code",
   "execution_count": 18,
   "id": "42d7902d-0fe7-4f4c-af52-ba3047ede2b7",
   "metadata": {},
   "outputs": [
    {
     "name": "stdout",
     "output_type": "stream",
     "text": [
      "32\n",
      "27\n"
     ]
    }
   ],
   "source": [
    "# Recursive function to calculate power (base^exponent)\n",
    "def power(base, exponent):\n",
    "    if exponent == 0:\n",
    "        return 1\n",
    "    return base * power(base, exponent - 1)\n",
    "\n",
    "# Test\n",
    "print(power(2, 5))  \n",
    "print(power(3, 3)) \n"
   ]
  },
  {
   "cell_type": "code",
   "execution_count": null,
   "id": "df221d1d-27da-45d4-bfe3-9c87336edb3b",
   "metadata": {},
   "outputs": [],
   "source": []
  }
 ],
 "metadata": {
  "kernelspec": {
   "display_name": "Python 3 (ipykernel)",
   "language": "python",
   "name": "python3"
  },
  "language_info": {
   "codemirror_mode": {
    "name": "ipython",
    "version": 3
   },
   "file_extension": ".py",
   "mimetype": "text/x-python",
   "name": "python",
   "nbconvert_exporter": "python",
   "pygments_lexer": "ipython3",
   "version": "3.13.5"
  }
 },
 "nbformat": 4,
 "nbformat_minor": 5
}
